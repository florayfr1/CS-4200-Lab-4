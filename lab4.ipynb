{
  "nbformat": 4,
  "nbformat_minor": 0,
  "metadata": {
    "colab": {
      "name": "lab4.ipynb",
      "provenance": [],
      "collapsed_sections": [
        "RGA9Fick4B3a",
        "wXDLr4qX5QDV"
      ],
      "toc_visible": true,
      "include_colab_link": true
    },
    "kernelspec": {
      "name": "python3",
      "display_name": "Python 3"
    },
    "language_info": {
      "name": "python"
    }
  },
  "cells": [
    {
      "cell_type": "markdown",
      "metadata": {
        "id": "view-in-github",
        "colab_type": "text"
      },
      "source": [
        "<a href=\"https://colab.research.google.com/github/florayfr1/CS-4200-Lab-4/blob/main/lab4.ipynb\" target=\"_parent\"><img src=\"https://colab.research.google.com/assets/colab-badge.svg\" alt=\"Open In Colab\"/></a>"
      ]
    },
    {
      "cell_type": "markdown",
      "metadata": {
        "id": "RGA9Fick4B3a"
      },
      "source": [
        "# Initialization, utilities (no TODOs)"
      ]
    },
    {
      "cell_type": "code",
      "metadata": {
        "id": "-iUIdICI1s_b"
      },
      "source": [
        "import torch\n",
        "import torchvision\n",
        "import torch.nn as nn\n",
        "import argparse\n",
        "import PIL\n",
        "import random"
      ],
      "execution_count": null,
      "outputs": []
    },
    {
      "cell_type": "code",
      "metadata": {
        "id": "7yu9m7Fp2Igo"
      },
      "source": [
        "def to_list(img):\n",
        "    return list(map(int, img.view((28*28,)).tolist()))\n",
        "    \n",
        "SCALE_OFF = 0    \n",
        "SCALE_RANGE = 1\n",
        "SCALE_01 = 2\n",
        "    \n",
        "\n",
        "def show_image(tens, imgname=None, scale=SCALE_01):\n",
        "    \"\"\"\n",
        "    Show an image contained in a tensor. The tensor will be reshaped properly, as long as it has the required 28*28 = 784 entries.\n",
        "    \n",
        "    If imgname is provided, the image will be saved to a file, otherwise it will be stored in a temporary file and displayed on screen.\n",
        "    \n",
        "    The parameter scale can be used to perform one of three scaling operations:\n",
        "        SCALE_OFF: No scaling is performed, the data is expected to use values between 0 and 255\n",
        "        SCALE_RANGE: The data will be rescaled from whichever scale it has to be between 0 and 255. This is useful for data in an unknown/arbitrary range. The lowest value present in the data will be \n",
        "        converted to 0, the highest to 255, and all intermediate values will be assigned using linear interpolation\n",
        "        SCALE_01: The data will be rescaled from a range between 0 and 1 to the range between 0 and 255. This can be useful if you normalize your data into that range.\n",
        "    \"\"\"\n",
        "    r = tens.max() - tens.min()\n",
        "    img = PIL.Image.new(\"L\", (28,28))\n",
        "    scaled = tens\n",
        "    if scale == SCALE_RANGE:\n",
        "        scaled = (tens - tens.min())*255/r\n",
        "    elif scale == SCALE_01:\n",
        "        scaled = tens*255\n",
        "    img.putdata(to_list(scaled))\n",
        "    if imgname is None:\n",
        "        img.show()\n",
        "    else:\n",
        "        img.save(imgname)\n",
        "\n",
        "\n"
      ],
      "execution_count": null,
      "outputs": []
    },
    {
      "cell_type": "markdown",
      "metadata": {
        "id": "wzidJ5p_3rD9"
      },
      "source": [
        "# Classification (5 TODOs)"
      ]
    },
    {
      "cell_type": "code",
      "metadata": {
        "id": "386jsZ5k1vX2"
      },
      "source": [
        "# Used for both tasks\n",
        "loss_fn = torch.nn.BCELoss()\n",
        "\n",
        "# TODO 1: Choose a digit\n",
        "digit = None\n",
        "\n",
        "# TODO 2: Change number of training iterations for classifier\n",
        "n0 = 5"
      ],
      "execution_count": null,
      "outputs": []
    },
    {
      "cell_type": "code",
      "metadata": {
        "id": "bkMT2Ian4Y62"
      },
      "source": [
        "# TODO 3\n",
        "# Change Network architecture of the discriminator/classifier network. It should have 784 inputs and 1 output (0 = fake, 1 = real)\n",
        "class Discriminator(nn.Module):\n",
        "    def __init__(self):\n",
        "        super().__init__()\n",
        "        self.linear1 = nn.Linear(784,1)\n",
        "    def forward(self, x):\n",
        "        return self.linear1(x)"
      ],
      "execution_count": null,
      "outputs": []
    },
    {
      "cell_type": "code",
      "metadata": {
        "id": "na_-h3hb4gFr"
      },
      "source": [
        "# TODO 4\n",
        "# Implement training loop for the classifier:\n",
        "# for i in range(n0):\n",
        "#     zero gradients\n",
        "#     calculate predictions for given x\n",
        "#     calculate loss, comparing the predictions with the given y\n",
        "#     calculate the gradient (loss.backward())\n",
        "#     print i and the loss\n",
        "#     perform an optimizer step\n",
        "def train_classifier(opt, model, x, y):\n",
        "    pass"
      ],
      "execution_count": null,
      "outputs": []
    },
    {
      "cell_type": "code",
      "metadata": {
        "id": "NFhul0ET4i9p"
      },
      "source": [
        "# TODO 5\n",
        "# Instantiate the network and the optimizer\n",
        "# call train_classifier with the training set\n",
        "# Calculate metrics on the validation set \n",
        "# Example: \n",
        "#      y_pred = net(x_validation[labels_validation == 3]) calculates all predictions for all images we know to be 3s\n",
        "#      (y_pred > 0.5) is a tensor that tells you if a given image was classified as your chosen digit (True) or not (False)\n",
        "#      You can convert this tensor to 0s and 1s by calling .float()\n",
        "#      (y_pred > 0.5).sum() will tell you how many of these predictions were true\n",
        "# You are supposed to calculate:\n",
        "#     For each digit from 0 to 9, which number percentage of images that were of that digit were predicted as your chosen digit\n",
        "#     The percentage of digits that were classified correctly (i.e. that were your digit and predicted as such, or were another digit and not predicted as your digit)\n",
        "#     This last value (accuracy) should be over 90% (preferably over 98%; precision and recall may be lower than that, 90-93% would be decent values)\n",
        "#     Precision (which percentage of images identified as your chosen digit was actually that digit: TP/(TP+FP))\n",
        "#     Recall (which percentage of your chosen digit was identified as such: TP/(TP+FN))\n",
        "def classify(x_train, y_train, x_validation, labels_validation):\n",
        "    pass"
      ],
      "execution_count": null,
      "outputs": []
    },
    {
      "cell_type": "markdown",
      "metadata": {
        "id": "Qt4nh87Z4pQM"
      },
      "source": [
        "# GAN (5 TODOs)"
      ]
    },
    {
      "cell_type": "code",
      "metadata": {
        "id": "xpzYjdRH7J8u"
      },
      "source": [
        "# TODO 6: Change number of total training iterations for GAN, for the discriminator and for the generator\n",
        "n = 5\n",
        "n1 = 5\n",
        "n2 = 5"
      ],
      "execution_count": null,
      "outputs": []
    },
    {
      "cell_type": "code",
      "metadata": {
        "id": "1ZsKuRXK4uS2"
      },
      "source": [
        "# TODO 7\n",
        "# Change Network architecture of the generator network. It should have 100 inputs (will be random numbers) and 784 outputs (one for each pixel, each between 0 and 1)\n",
        "class Generator(nn.Module):\n",
        "    def __init__(self):\n",
        "        super().__init__()\n",
        "        self.linear1 = nn.Linear(100, 784)\n",
        "    def forward(self, x):\n",
        "        return self.linear1(x)"
      ],
      "execution_count": null,
      "outputs": []
    },
    {
      "cell_type": "code",
      "metadata": {
        "id": "r28Lozz45AoO"
      },
      "source": [
        "# TODO 8\n",
        "# Implement training loop for the discriminator, given real and fake data:\n",
        "# for i in range(n1):\n",
        "#     zero gradients\n",
        "#     calculate predictions for the x known as real \n",
        "#     calculate loss, comparing the predictions with a tensor consisting of 1s (we want all of these samples to be classified as real)\n",
        "#     calculate the gradient (loss_true.backward())\n",
        "#     calculate predictions for the x known as fake\n",
        "#     calculate loss, comparing the predictions with a tensor consisting of 0s (we want all of these samples to be classified as fake)\n",
        "#     calculate the gradient (loss_false.backward())\n",
        "#     print i and both of the loss values\n",
        "#     perform an optimizer step\n",
        "def train_discriminator(opt, discriminator, x_true, x_false):\n",
        "    print(\"Training discriminator\")"
      ],
      "execution_count": null,
      "outputs": []
    },
    {
      "cell_type": "code",
      "metadata": {
        "id": "WeN1dXqe5Ct4"
      },
      "source": [
        "# TODO 9 \n",
        "# Implement training loop for the generator:\n",
        "# for i in range(n2):\n",
        "#     zero gradients \n",
        "#     generate some random inputs\n",
        "#     calculate generated images by passing these inputs to the generator\n",
        "#     pass the generated images to the discriminator to predict if they are true or fake\n",
        "#     calculate the loss, comparing the predictions with a tensor of 1s (the *generator* wants the discriminator to classify its images as real)\n",
        "#     calculate the gradient (loss.backward())\n",
        "#     print i and the loss\n",
        "#     perform an optimization step\n",
        "def train_generator(opt, generator, discriminator):\n",
        "    print(\"Training generator\")"
      ],
      "execution_count": null,
      "outputs": []
    },
    {
      "cell_type": "code",
      "metadata": {
        "id": "BthTT_985tYS"
      },
      "source": [
        "# TODO 10\n",
        "# Implement GAN training loop:\n",
        "# Generate some random images (with torch.rand) as an initial collection of fakes\n",
        "# Instantiate the two networks and two optimizers (one for each network!)\n",
        "# for i in range(n):\n",
        "#    call train_discriminator with the given real images and the collection of fake images \n",
        "#    call train_generator \n",
        "#    generate some images with the current generator, and add a random selection of old fake images (e.g. 100 random old ones, and 100new ones = 200 in total)\n",
        "#    this will be your new collection of fake images\n",
        "#    save some of the current fake images to a file (use a filename like \"sample_%d_%d.png\"%(i,j) so you have some samples from each iteration so you can see if the network improves)\n",
        "# If you read the todos above, your training code will print the loss in each iteration. The loss for the discriminator and the generator should decrease each time their respective training functions are called \n",
        "# The images should start to look like numbers after just a few (could be after 1 or 2 already, or 3-10) iterations of *this* loop\n",
        "def gan(x_real):\n",
        "    show_image(x_real[0], \"train_0.png\", scale=SCALE_01)"
      ],
      "execution_count": null,
      "outputs": []
    },
    {
      "cell_type": "markdown",
      "metadata": {
        "id": "wXDLr4qX5QDV"
      },
      "source": [
        "# Main (no TODOs)"
      ]
    },
    {
      "cell_type": "code",
      "metadata": {
        "id": "Kw5xvVZI2UN_"
      },
      "source": [
        "def main(rungan):\n",
        "    \"\"\"\n",
        "    You do not have to change this function!\n",
        "    \n",
        "    It will:\n",
        "        automatically download the data set if it doesn't exist yet\n",
        "        make sure all tensor shapes are correct\n",
        "        normalize the images (all pixels between 0 and 1)\n",
        "        provide labels for the classification task (0 for all images that are not your digit, 1 for the ones that are)\n",
        "        extract the images of your chosen digit for the GAN\n",
        "    \"\"\"\n",
        "    train = torchvision.datasets.MNIST(\".\", download=True)\n",
        "    x_train = train.data.float().view(-1,28*28)/255.0\n",
        "    labels_train = train.targets\n",
        "    y_train = (labels_train == digit).float().view(-1,1)\n",
        "    \n",
        "    validation = torchvision.datasets.MNIST(\".\", train=False)\n",
        "    x_validation = validation.data.float().view(-1,28*28)/255.0\n",
        "    labels_validation = validation.targets\n",
        "    \n",
        "    if rungan:\n",
        "        gan(x_train[labels_train == digit])\n",
        "    else:\n",
        "        classify(x_train, y_train, x_validation, labels_validation)"
      ],
      "execution_count": null,
      "outputs": []
    },
    {
      "cell_type": "markdown",
      "metadata": {
        "id": "-7yHoNrZ5Svz"
      },
      "source": [
        "# Test call (TODO: TEST)"
      ]
    },
    {
      "cell_type": "code",
      "metadata": {
        "id": "rQm0AL2X2tzG"
      },
      "source": [
        "# NOTE: This will not work until you have done TODO 1 above! \n",
        "# If you have not done TODO 1 yet, you will get: AttributeError: 'bool' object has no attribute 'float'\n",
        "GAN = False\n",
        "main(GAN)\n"
      ],
      "execution_count": null,
      "outputs": []
    }
  ]
}